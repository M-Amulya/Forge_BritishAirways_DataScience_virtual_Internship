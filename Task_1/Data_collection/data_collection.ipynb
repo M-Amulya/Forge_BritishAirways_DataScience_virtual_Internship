{
 "cells": [
  {
   "cell_type": "markdown",
   "id": "dd031fcb",
   "metadata": {},
   "source": [
    "## Data collection"
   ]
  },
  {
   "cell_type": "markdown",
   "id": "ff0b5a95",
   "metadata": {},
   "source": [
    "**Scrape data from the web**\n",
    "\n",
    "The first thing to do will be to scrape review data from the website called [Skytrax](https://www.airlinequality.com/).Here we wants you to focus on reviews specifically about the airline itself.\n",
    "We will collect data about airline ratings, seat ratings and lounge experience ratings from this website."
   ]
  },
  {
   "cell_type": "code",
   "execution_count": 1,
   "id": "1ce46e17",
   "metadata": {},
   "outputs": [],
   "source": [
    "# import required libraries\n",
    "import pandas as pd\n",
    "import numpy as np\n",
    "from bs4 import BeautifulSoup\n",
    "import requests "
   ]
  },
  {
   "cell_type": "code",
   "execution_count": 3,
   "id": "547f273d",
   "metadata": {},
   "outputs": [
    {
     "name": "stdout",
     "output_type": "stream",
     "text": [
      "Error on page 31\n",
      "Error on page 32\n",
      "Error on page 32\n",
      "Error on page 35\n",
      "Error on page 35\n"
     ]
    }
   ],
   "source": [
    "reviews=[]\n",
    "stars=[]\n",
    "date=[]\n",
    "\n",
    "for i in range(1,36):\n",
    "    page=requests.get(f\"https://www.airlinequality.com/airline-reviews/british-airways/page/{i}/?sortby=post_date%3ADesc&pagesize=100\")\n",
    "    soup = BeautifulSoup(page.content, \"html5\")\n",
    "    \n",
    "    #reviews\n",
    "    for item in soup.find_all(\"div\", class_=\"text_content\"):\n",
    "        reviews.append(item.text)\n",
    "    \n",
    "    #stars\n",
    "    for item in soup.find_all(\"div\", class_ = \"rating-10\"):\n",
    "        try:\n",
    "            stars.append(item.span.text)\n",
    "        except:\n",
    "            print(f\"Error on page {i}\")\n",
    "            stars.append(\"None\")\n",
    "            \n",
    "    #date\n",
    "    for item in soup.find_all(\"time\"):\n",
    "        date.append(item.text)\n",
    "        "
   ]
  },
  {
   "cell_type": "code",
   "execution_count": 5,
   "id": "5aeb9878",
   "metadata": {},
   "outputs": [
    {
     "name": "stdout",
     "output_type": "stream",
     "text": [
      "3500\n",
      "3535\n",
      "3500\n"
     ]
    }
   ],
   "source": [
    "print(len(reviews))\n",
    "print(len(stars))\n",
    "print(len(date))"
   ]
  },
  {
   "cell_type": "code",
   "execution_count": 6,
   "id": "1a7c3262",
   "metadata": {},
   "outputs": [
    {
     "data": {
      "text/plain": [
       "3500"
      ]
     },
     "execution_count": 6,
     "metadata": {},
     "output_type": "execute_result"
    }
   ],
   "source": [
    "stars = stars[:3500]\n",
    "len(stars)"
   ]
  },
  {
   "cell_type": "code",
   "execution_count": 8,
   "id": "d6b81410",
   "metadata": {},
   "outputs": [
    {
     "data": {
      "text/html": [
       "<div>\n",
       "<style scoped>\n",
       "    .dataframe tbody tr th:only-of-type {\n",
       "        vertical-align: middle;\n",
       "    }\n",
       "\n",
       "    .dataframe tbody tr th {\n",
       "        vertical-align: top;\n",
       "    }\n",
       "\n",
       "    .dataframe thead th {\n",
       "        text-align: right;\n",
       "    }\n",
       "</style>\n",
       "<table border=\"1\" class=\"dataframe\">\n",
       "  <thead>\n",
       "    <tr style=\"text-align: right;\">\n",
       "      <th></th>\n",
       "      <th>reviews</th>\n",
       "      <th>stars</th>\n",
       "      <th>date</th>\n",
       "    </tr>\n",
       "  </thead>\n",
       "  <tbody>\n",
       "    <tr>\n",
       "      <th>0</th>\n",
       "      <td>✅ Trip Verified |  My family and I have flown ...</td>\n",
       "      <td>\\n\\t\\t\\t\\t\\t\\t\\t\\t\\t\\t\\t\\t\\t5</td>\n",
       "      <td>9th July 2023</td>\n",
       "    </tr>\n",
       "    <tr>\n",
       "      <th>1</th>\n",
       "      <td>✅ Trip Verified |  This has been by far the wo...</td>\n",
       "      <td>4</td>\n",
       "      <td>9th July 2023</td>\n",
       "    </tr>\n",
       "    <tr>\n",
       "      <th>2</th>\n",
       "      <td>✅ Trip Verified |  In Nov 2022 I booked and pa...</td>\n",
       "      <td>2</td>\n",
       "      <td>8th July 2023</td>\n",
       "    </tr>\n",
       "    <tr>\n",
       "      <th>3</th>\n",
       "      <td>Not Verified | BA is not treating its premium ...</td>\n",
       "      <td>2</td>\n",
       "      <td>6th July 2023</td>\n",
       "    </tr>\n",
       "    <tr>\n",
       "      <th>4</th>\n",
       "      <td>✅ Trip Verified |  24 hours before our departu...</td>\n",
       "      <td>4</td>\n",
       "      <td>5th July 2023</td>\n",
       "    </tr>\n",
       "  </tbody>\n",
       "</table>\n",
       "</div>"
      ],
      "text/plain": [
       "                                             reviews  \\\n",
       "0  ✅ Trip Verified |  My family and I have flown ...   \n",
       "1  ✅ Trip Verified |  This has been by far the wo...   \n",
       "2  ✅ Trip Verified |  In Nov 2022 I booked and pa...   \n",
       "3  Not Verified | BA is not treating its premium ...   \n",
       "4  ✅ Trip Verified |  24 hours before our departu...   \n",
       "\n",
       "                           stars           date  \n",
       "0  \\n\\t\\t\\t\\t\\t\\t\\t\\t\\t\\t\\t\\t\\t5  9th July 2023  \n",
       "1                              4  9th July 2023  \n",
       "2                              2  8th July 2023  \n",
       "3                              2  6th July 2023  \n",
       "4                              4  5th July 2023  "
      ]
     },
     "execution_count": 8,
     "metadata": {},
     "output_type": "execute_result"
    }
   ],
   "source": [
    "df=pd.DataFrame({\"reviews\":reviews,\"stars\": stars, \"date\":date})\n",
    "df.head()"
   ]
  },
  {
   "cell_type": "markdown",
   "id": "51c2e7a9",
   "metadata": {},
   "source": [
    "**Export data into csv file (BA_reviews.csv)**"
   ]
  },
  {
   "cell_type": "code",
   "execution_count": 9,
   "id": "a2cfc1ec",
   "metadata": {},
   "outputs": [],
   "source": [
    "import os\n",
    "\n",
    "cwd = os.getcwd()\n",
    "df.to_csv(cwd+ \"/BA_reviews.csv\")"
   ]
  },
  {
   "cell_type": "code",
   "execution_count": null,
   "id": "c2eae991",
   "metadata": {},
   "outputs": [],
   "source": []
  }
 ],
 "metadata": {
  "kernelspec": {
   "display_name": "Python 3",
   "language": "python",
   "name": "python3"
  },
  "language_info": {
   "codemirror_mode": {
    "name": "ipython",
    "version": 3
   },
   "file_extension": ".py",
   "mimetype": "text/x-python",
   "name": "python",
   "nbconvert_exporter": "python",
   "pygments_lexer": "ipython3",
   "version": "3.8.8"
  }
 },
 "nbformat": 4,
 "nbformat_minor": 5
}
