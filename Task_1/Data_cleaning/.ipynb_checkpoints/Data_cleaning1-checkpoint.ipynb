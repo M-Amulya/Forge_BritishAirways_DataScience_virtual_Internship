{
 "cells": [
  {
   "cell_type": "markdown",
   "id": "117196ff",
   "metadata": {},
   "source": [
    "## Data Cleaning"
   ]
  },
  {
   "cell_type": "markdown",
   "id": "d55aa40e",
   "metadata": {},
   "source": [
    "**Analyse data**\n",
    "\n",
    "The next thing that we should do is clean the data stored in BA_reviews.csv file to remove any unnecessary text from each of the rows."
   ]
  },
  {
   "cell_type": "code",
   "execution_count": 13,
   "id": "1f3bf8d9",
   "metadata": {},
   "outputs": [],
   "source": [
    "import pandas as pd\n",
    "import matplotlib.pyplot as plt\n",
    "import seaborn as sns\n",
    "import re"
   ]
  },
  {
   "cell_type": "code",
   "execution_count": 14,
   "id": "3e236598",
   "metadata": {},
   "outputs": [
    {
     "data": {
      "text/html": [
       "<div>\n",
       "<style scoped>\n",
       "    .dataframe tbody tr th:only-of-type {\n",
       "        vertical-align: middle;\n",
       "    }\n",
       "\n",
       "    .dataframe tbody tr th {\n",
       "        vertical-align: top;\n",
       "    }\n",
       "\n",
       "    .dataframe thead th {\n",
       "        text-align: right;\n",
       "    }\n",
       "</style>\n",
       "<table border=\"1\" class=\"dataframe\">\n",
       "  <thead>\n",
       "    <tr style=\"text-align: right;\">\n",
       "      <th></th>\n",
       "      <th>reviews</th>\n",
       "      <th>stars</th>\n",
       "      <th>date</th>\n",
       "    </tr>\n",
       "  </thead>\n",
       "  <tbody>\n",
       "    <tr>\n",
       "      <th>0</th>\n",
       "      <td>✅ Trip Verified |  My family and I have flown ...</td>\n",
       "      <td>\\n\\t\\t\\t\\t\\t\\t\\t\\t\\t\\t\\t\\t\\t5</td>\n",
       "      <td>9th July 2023</td>\n",
       "    </tr>\n",
       "    <tr>\n",
       "      <th>1</th>\n",
       "      <td>✅ Trip Verified |  This has been by far the wo...</td>\n",
       "      <td>4</td>\n",
       "      <td>9th July 2023</td>\n",
       "    </tr>\n",
       "    <tr>\n",
       "      <th>2</th>\n",
       "      <td>✅ Trip Verified |  In Nov 2022 I booked and pa...</td>\n",
       "      <td>2</td>\n",
       "      <td>8th July 2023</td>\n",
       "    </tr>\n",
       "    <tr>\n",
       "      <th>3</th>\n",
       "      <td>Not Verified | BA is not treating its premium ...</td>\n",
       "      <td>2</td>\n",
       "      <td>6th July 2023</td>\n",
       "    </tr>\n",
       "    <tr>\n",
       "      <th>4</th>\n",
       "      <td>✅ Trip Verified |  24 hours before our departu...</td>\n",
       "      <td>4</td>\n",
       "      <td>5th July 2023</td>\n",
       "    </tr>\n",
       "  </tbody>\n",
       "</table>\n",
       "</div>"
      ],
      "text/plain": [
       "                                             reviews  \\\n",
       "0  ✅ Trip Verified |  My family and I have flown ...   \n",
       "1  ✅ Trip Verified |  This has been by far the wo...   \n",
       "2  ✅ Trip Verified |  In Nov 2022 I booked and pa...   \n",
       "3  Not Verified | BA is not treating its premium ...   \n",
       "4  ✅ Trip Verified |  24 hours before our departu...   \n",
       "\n",
       "                           stars           date  \n",
       "0  \\n\\t\\t\\t\\t\\t\\t\\t\\t\\t\\t\\t\\t\\t5  9th July 2023  \n",
       "1                              4  9th July 2023  \n",
       "2                              2  8th July 2023  \n",
       "3                              2  6th July 2023  \n",
       "4                              4  5th July 2023  "
      ]
     },
     "execution_count": 14,
     "metadata": {},
     "output_type": "execute_result"
    }
   ],
   "source": [
    "df=pd.read_csv('BA_reviews.csv', index_col=0)\n",
    "df.head()"
   ]
  },
  {
   "cell_type": "markdown",
   "id": "b1bbe547",
   "metadata": {},
   "source": [
    "creating a column if the user trip if verified ✅ or not "
   ]
  },
  {
   "cell_type": "code",
   "execution_count": 15,
   "id": "6fdfd76a",
   "metadata": {},
   "outputs": [
    {
     "data": {
      "text/plain": [
       "0        True\n",
       "1        True\n",
       "2        True\n",
       "3       False\n",
       "4        True\n",
       "        ...  \n",
       "3495    False\n",
       "3496    False\n",
       "3497    False\n",
       "3498    False\n",
       "3499    False\n",
       "Name: Verified, Length: 3500, dtype: bool"
      ]
     },
     "execution_count": 15,
     "metadata": {},
     "output_type": "execute_result"
    }
   ],
   "source": [
    "df['Verified']=df['reviews'].str.contains(\"Trip Verified\")\n",
    "df['Verified']"
   ]
  },
  {
   "cell_type": "markdown",
   "id": "51810cea",
   "metadata": {},
   "source": [
    "### Cleaning reviews"
   ]
  },
  {
   "cell_type": "markdown",
   "id": "b227b18d",
   "metadata": {},
   "source": [
    "We will extract the column of reviews into a separate dataframe and clean it for semantic analysis"
   ]
  },
  {
   "cell_type": "code",
   "execution_count": 23,
   "id": "4e9b80e3",
   "metadata": {},
   "outputs": [
    {
     "name": "stderr",
     "output_type": "stream",
     "text": [
      "[nltk_data] Downloading package stopwords to\n",
      "[nltk_data]     C:\\Users\\mutho\\AppData\\Roaming\\nltk_data...\n",
      "[nltk_data]   Package stopwords is already up-to-date!\n"
     ]
    }
   ],
   "source": [
    "import nltk\n",
    "import re\n",
    "nltk.download('stopwords')\n",
    "stemmer=nltk.SnowballStemmer(\"english\")\n",
    "from nltk.corpus import stopwords\n",
    "import string\n",
    "stopword=set(stopwords.words('english'))\n",
    "\n",
    "def clean(text):\n",
    "    text=str(text).lower()\n",
    "    text=re.sub('\\s+',' ',text) #remove extra whitespaces\n",
    "    text=re.sub('RT|cc',' ',text) #remove RT and cc\n",
    "    text=re.sub('[%s]'% re.escape(\"\"\"!\"#$%&'()*+,-./:;<=>?@[\\]^_`{|}~\"\"\"),' ',text) #remove punctuations\n",
    "    text=re.sub('#\\S+','',text) #remove hashtags\n",
    "    text=re.sub('http\\S+\\s*', ' ',text) #remove URLs\n",
    "    text=re.sub(r'[^\\x00-\\x7f]',r' ',text)\n",
    "    text=re.sub('@\\S+','',text) #remove mentions\n",
    "    text=[word for word in text.split(' ') if word not in stopword]\n",
    "    text=\" \".join(text)\n",
    "    text=[stemmer.stem(word) for word in text.split(\" \")]\n",
    "    text=\" \".join(text)\n",
    "    return text\n",
    "    \n",
    "    "
   ]
  },
  {
   "cell_type": "code",
   "execution_count": 24,
   "id": "1f02a13f",
   "metadata": {},
   "outputs": [],
   "source": [
    "df['reviews']=df['reviews'].apply(clean)"
   ]
  },
  {
   "cell_type": "code",
   "execution_count": 25,
   "id": "3eddae36",
   "metadata": {},
   "outputs": [
    {
     "data": {
      "text/html": [
       "<div>\n",
       "<style scoped>\n",
       "    .dataframe tbody tr th:only-of-type {\n",
       "        vertical-align: middle;\n",
       "    }\n",
       "\n",
       "    .dataframe tbody tr th {\n",
       "        vertical-align: top;\n",
       "    }\n",
       "\n",
       "    .dataframe thead th {\n",
       "        text-align: right;\n",
       "    }\n",
       "</style>\n",
       "<table border=\"1\" class=\"dataframe\">\n",
       "  <thead>\n",
       "    <tr style=\"text-align: right;\">\n",
       "      <th></th>\n",
       "      <th>reviews</th>\n",
       "      <th>stars</th>\n",
       "      <th>date</th>\n",
       "      <th>Verified</th>\n",
       "    </tr>\n",
       "  </thead>\n",
       "  <tbody>\n",
       "    <tr>\n",
       "      <th>0</th>\n",
       "      <td>trip verifi famili flown most british airway ...</td>\n",
       "      <td>\\n\\t\\t\\t\\t\\t\\t\\t\\t\\t\\t\\t\\t\\t5</td>\n",
       "      <td>9th July 2023</td>\n",
       "      <td>True</td>\n",
       "    </tr>\n",
       "    <tr>\n",
       "      <th>1</th>\n",
       "      <td>trip verifi far worst servic plane obvious fl...</td>\n",
       "      <td>4</td>\n",
       "      <td>9th July 2023</td>\n",
       "      <td>True</td>\n",
       "    </tr>\n",
       "    <tr>\n",
       "      <th>2</th>\n",
       "      <td>trip verifi nov 2022 book paid return journey...</td>\n",
       "      <td>2</td>\n",
       "      <td>8th July 2023</td>\n",
       "      <td>True</td>\n",
       "    </tr>\n",
       "    <tr>\n",
       "      <th>3</th>\n",
       "      <td>verifi ba treat premium economi passeng respec...</td>\n",
       "      <td>2</td>\n",
       "      <td>6th July 2023</td>\n",
       "      <td>False</td>\n",
       "    </tr>\n",
       "    <tr>\n",
       "      <th>4</th>\n",
       "      <td>trip verifi 24 hour departur ba059 cape town ...</td>\n",
       "      <td>4</td>\n",
       "      <td>5th July 2023</td>\n",
       "      <td>True</td>\n",
       "    </tr>\n",
       "  </tbody>\n",
       "</table>\n",
       "</div>"
      ],
      "text/plain": [
       "                                             reviews  \\\n",
       "0   trip verifi famili flown most british airway ...   \n",
       "1   trip verifi far worst servic plane obvious fl...   \n",
       "2   trip verifi nov 2022 book paid return journey...   \n",
       "3  verifi ba treat premium economi passeng respec...   \n",
       "4   trip verifi 24 hour departur ba059 cape town ...   \n",
       "\n",
       "                           stars           date  Verified  \n",
       "0  \\n\\t\\t\\t\\t\\t\\t\\t\\t\\t\\t\\t\\t\\t5  9th July 2023      True  \n",
       "1                              4  9th July 2023      True  \n",
       "2                              2  8th July 2023      True  \n",
       "3                              2  6th July 2023     False  \n",
       "4                              4  5th July 2023      True  "
      ]
     },
     "execution_count": 25,
     "metadata": {},
     "output_type": "execute_result"
    }
   ],
   "source": [
    "df.head()"
   ]
  },
  {
   "cell_type": "markdown",
   "id": "550a36db",
   "metadata": {},
   "source": [
    "### Cleaning date"
   ]
  },
  {
   "cell_type": "code",
   "execution_count": 26,
   "id": "45f7694b",
   "metadata": {},
   "outputs": [
    {
     "data": {
      "text/plain": [
       "reviews     object\n",
       "stars       object\n",
       "date        object\n",
       "Verified      bool\n",
       "dtype: object"
      ]
     },
     "execution_count": 26,
     "metadata": {},
     "output_type": "execute_result"
    }
   ],
   "source": [
    "df.dtypes"
   ]
  },
  {
   "cell_type": "code",
   "execution_count": 27,
   "id": "476d4aa3",
   "metadata": {},
   "outputs": [],
   "source": [
    "# convert the date to datetime format\n",
    "df['date'] = pd.to_datetime(df['date'])"
   ]
  },
  {
   "cell_type": "code",
   "execution_count": 28,
   "id": "6d87b4d9",
   "metadata": {},
   "outputs": [
    {
     "data": {
      "text/plain": [
       "0   2023-07-09\n",
       "1   2023-07-09\n",
       "2   2023-07-08\n",
       "3   2023-07-06\n",
       "4   2023-07-05\n",
       "Name: date, dtype: datetime64[ns]"
      ]
     },
     "execution_count": 28,
     "metadata": {},
     "output_type": "execute_result"
    }
   ],
   "source": [
    "df['date'].head()"
   ]
  },
  {
   "cell_type": "markdown",
   "id": "86b1ec24",
   "metadata": {},
   "source": [
    "### Cleaning  stars"
   ]
  },
  {
   "cell_type": "code",
   "execution_count": 29,
   "id": "12ec8f5b",
   "metadata": {},
   "outputs": [
    {
     "data": {
      "text/plain": [
       "array(['\\n\\t\\t\\t\\t\\t\\t\\t\\t\\t\\t\\t\\t\\t5', '4', '2', '1', '3', '10', '7',\n",
       "       '9', '5', '8', '6', 'None'], dtype=object)"
      ]
     },
     "execution_count": 29,
     "metadata": {},
     "output_type": "execute_result"
    }
   ],
   "source": [
    "#check for unique values\n",
    "df.stars.unique()"
   ]
  },
  {
   "cell_type": "code",
   "execution_count": 30,
   "id": "3affc060",
   "metadata": {},
   "outputs": [],
   "source": [
    "# remove the \\t and \\n from the ratings\n",
    "df.stars = df.stars.str.strip(\"\\n\\t\\t\\t\\t\\t\\t\\t\\t\\t\\t\\t\\t\\t\")"
   ]
  },
  {
   "cell_type": "code",
   "execution_count": 31,
   "id": "54e52855",
   "metadata": {},
   "outputs": [
    {
     "data": {
      "text/plain": [
       "1       797\n",
       "2       400\n",
       "3       393\n",
       "8       348\n",
       "7       299\n",
       "10      299\n",
       "9       292\n",
       "5       253\n",
       "4       239\n",
       "6       175\n",
       "None      5\n",
       "Name: stars, dtype: int64"
      ]
     },
     "execution_count": 31,
     "metadata": {},
     "output_type": "execute_result"
    }
   ],
   "source": [
    "df.stars.value_counts()"
   ]
  },
  {
   "cell_type": "markdown",
   "id": "bf42b6a8",
   "metadata": {},
   "source": [
    "There are 5 rows having values \"None\" in the ratings. We will drop all these 5 rows."
   ]
  },
  {
   "cell_type": "code",
   "execution_count": 32,
   "id": "69530872",
   "metadata": {},
   "outputs": [],
   "source": [
    "# drop the rows where the value of ratings is None\n",
    "df.drop(df[df.stars == \"None\"].index, axis=0, inplace=True)"
   ]
  },
  {
   "cell_type": "code",
   "execution_count": 34,
   "id": "14d13e35",
   "metadata": {},
   "outputs": [
    {
     "data": {
      "text/plain": [
       "array(['5', '4', '2', '1', '3', '10', '7', '9', '8', '6'], dtype=object)"
      ]
     },
     "execution_count": 34,
     "metadata": {},
     "output_type": "execute_result"
    }
   ],
   "source": [
    "#check the unique values again\n",
    "df.stars.unique()"
   ]
  },
  {
   "cell_type": "code",
   "execution_count": 36,
   "id": "771c0c83",
   "metadata": {},
   "outputs": [
    {
     "data": {
      "text/html": [
       "<div>\n",
       "<style scoped>\n",
       "    .dataframe tbody tr th:only-of-type {\n",
       "        vertical-align: middle;\n",
       "    }\n",
       "\n",
       "    .dataframe tbody tr th {\n",
       "        vertical-align: top;\n",
       "    }\n",
       "\n",
       "    .dataframe thead th {\n",
       "        text-align: right;\n",
       "    }\n",
       "</style>\n",
       "<table border=\"1\" class=\"dataframe\">\n",
       "  <thead>\n",
       "    <tr style=\"text-align: right;\">\n",
       "      <th></th>\n",
       "      <th>reviews</th>\n",
       "      <th>stars</th>\n",
       "      <th>date</th>\n",
       "      <th>Verified</th>\n",
       "    </tr>\n",
       "  </thead>\n",
       "  <tbody>\n",
       "    <tr>\n",
       "      <th>0</th>\n",
       "      <td>trip verifi famili flown most british airway ...</td>\n",
       "      <td>5</td>\n",
       "      <td>2023-07-09</td>\n",
       "      <td>True</td>\n",
       "    </tr>\n",
       "    <tr>\n",
       "      <th>1</th>\n",
       "      <td>trip verifi far worst servic plane obvious fl...</td>\n",
       "      <td>4</td>\n",
       "      <td>2023-07-09</td>\n",
       "      <td>True</td>\n",
       "    </tr>\n",
       "    <tr>\n",
       "      <th>2</th>\n",
       "      <td>trip verifi nov 2022 book paid return journey...</td>\n",
       "      <td>2</td>\n",
       "      <td>2023-07-08</td>\n",
       "      <td>True</td>\n",
       "    </tr>\n",
       "    <tr>\n",
       "      <th>3</th>\n",
       "      <td>verifi ba treat premium economi passeng respec...</td>\n",
       "      <td>2</td>\n",
       "      <td>2023-07-06</td>\n",
       "      <td>False</td>\n",
       "    </tr>\n",
       "    <tr>\n",
       "      <th>4</th>\n",
       "      <td>trip verifi 24 hour departur ba059 cape town ...</td>\n",
       "      <td>4</td>\n",
       "      <td>2023-07-05</td>\n",
       "      <td>True</td>\n",
       "    </tr>\n",
       "  </tbody>\n",
       "</table>\n",
       "</div>"
      ],
      "text/plain": [
       "                                             reviews stars       date  \\\n",
       "0   trip verifi famili flown most british airway ...     5 2023-07-09   \n",
       "1   trip verifi far worst servic plane obvious fl...     4 2023-07-09   \n",
       "2   trip verifi nov 2022 book paid return journey...     2 2023-07-08   \n",
       "3  verifi ba treat premium economi passeng respec...     2 2023-07-06   \n",
       "4   trip verifi 24 hour departur ba059 cape town ...     4 2023-07-05   \n",
       "\n",
       "   Verified  \n",
       "0      True  \n",
       "1      True  \n",
       "2      True  \n",
       "3     False  \n",
       "4      True  "
      ]
     },
     "execution_count": 36,
     "metadata": {},
     "output_type": "execute_result"
    }
   ],
   "source": [
    "df.head()"
   ]
  },
  {
   "cell_type": "code",
   "execution_count": 37,
   "id": "c0f04a69",
   "metadata": {},
   "outputs": [
    {
     "data": {
      "text/plain": [
       "(3495, 4)"
      ]
     },
     "execution_count": 37,
     "metadata": {},
     "output_type": "execute_result"
    }
   ],
   "source": [
    "df.shape"
   ]
  },
  {
   "cell_type": "code",
   "execution_count": 35,
   "id": "272f1007",
   "metadata": {},
   "outputs": [
    {
     "data": {
      "text/plain": [
       "reviews     0\n",
       "stars       0\n",
       "date        0\n",
       "Verified    0\n",
       "dtype: int64"
      ]
     },
     "execution_count": 35,
     "metadata": {},
     "output_type": "execute_result"
    }
   ],
   "source": [
    "df.isnull().sum()"
   ]
  },
  {
   "cell_type": "code",
   "execution_count": 38,
   "id": "2cfbf798",
   "metadata": {},
   "outputs": [
    {
     "data": {
      "text/html": [
       "<div>\n",
       "<style scoped>\n",
       "    .dataframe tbody tr th:only-of-type {\n",
       "        vertical-align: middle;\n",
       "    }\n",
       "\n",
       "    .dataframe tbody tr th {\n",
       "        vertical-align: top;\n",
       "    }\n",
       "\n",
       "    .dataframe thead th {\n",
       "        text-align: right;\n",
       "    }\n",
       "</style>\n",
       "<table border=\"1\" class=\"dataframe\">\n",
       "  <thead>\n",
       "    <tr style=\"text-align: right;\">\n",
       "      <th></th>\n",
       "      <th>reviews</th>\n",
       "      <th>stars</th>\n",
       "      <th>date</th>\n",
       "      <th>Verified</th>\n",
       "    </tr>\n",
       "  </thead>\n",
       "  <tbody>\n",
       "    <tr>\n",
       "      <th>0</th>\n",
       "      <td>trip verifi famili flown most british airway ...</td>\n",
       "      <td>5</td>\n",
       "      <td>2023-07-09</td>\n",
       "      <td>True</td>\n",
       "    </tr>\n",
       "    <tr>\n",
       "      <th>1</th>\n",
       "      <td>trip verifi far worst servic plane obvious fl...</td>\n",
       "      <td>4</td>\n",
       "      <td>2023-07-09</td>\n",
       "      <td>True</td>\n",
       "    </tr>\n",
       "    <tr>\n",
       "      <th>2</th>\n",
       "      <td>trip verifi nov 2022 book paid return journey...</td>\n",
       "      <td>2</td>\n",
       "      <td>2023-07-08</td>\n",
       "      <td>True</td>\n",
       "    </tr>\n",
       "    <tr>\n",
       "      <th>3</th>\n",
       "      <td>verifi ba treat premium economi passeng respec...</td>\n",
       "      <td>2</td>\n",
       "      <td>2023-07-06</td>\n",
       "      <td>False</td>\n",
       "    </tr>\n",
       "    <tr>\n",
       "      <th>4</th>\n",
       "      <td>trip verifi 24 hour departur ba059 cape town ...</td>\n",
       "      <td>4</td>\n",
       "      <td>2023-07-05</td>\n",
       "      <td>True</td>\n",
       "    </tr>\n",
       "    <tr>\n",
       "      <th>...</th>\n",
       "      <td>...</td>\n",
       "      <td>...</td>\n",
       "      <td>...</td>\n",
       "      <td>...</td>\n",
       "    </tr>\n",
       "    <tr>\n",
       "      <th>3490</th>\n",
       "      <td>ba 213 lhr boston t5 busi check fast effici fl...</td>\n",
       "      <td>7</td>\n",
       "      <td>2014-06-12</td>\n",
       "      <td>False</td>\n",
       "    </tr>\n",
       "    <tr>\n",
       "      <th>3491</th>\n",
       "      <td>flew world travel plus first time trip lhr tor...</td>\n",
       "      <td>5</td>\n",
       "      <td>2014-06-12</td>\n",
       "      <td>False</td>\n",
       "    </tr>\n",
       "    <tr>\n",
       "      <th>3492</th>\n",
       "      <td>glasgow lhr complet full flight crew amaz desp...</td>\n",
       "      <td>4</td>\n",
       "      <td>2014-06-12</td>\n",
       "      <td>False</td>\n",
       "    </tr>\n",
       "    <tr>\n",
       "      <th>3493</th>\n",
       "      <td>lhr cph lhr a320 buss stand outward good bus u...</td>\n",
       "      <td>7</td>\n",
       "      <td>2014-06-12</td>\n",
       "      <td>False</td>\n",
       "    </tr>\n",
       "    <tr>\n",
       "      <th>3494</th>\n",
       "      <td>rome fiumicino lhr jun 1st economi airbus 321 ...</td>\n",
       "      <td>10</td>\n",
       "      <td>2014-06-12</td>\n",
       "      <td>False</td>\n",
       "    </tr>\n",
       "  </tbody>\n",
       "</table>\n",
       "<p>3495 rows × 4 columns</p>\n",
       "</div>"
      ],
      "text/plain": [
       "                                                reviews stars       date  \\\n",
       "0      trip verifi famili flown most british airway ...     5 2023-07-09   \n",
       "1      trip verifi far worst servic plane obvious fl...     4 2023-07-09   \n",
       "2      trip verifi nov 2022 book paid return journey...     2 2023-07-08   \n",
       "3     verifi ba treat premium economi passeng respec...     2 2023-07-06   \n",
       "4      trip verifi 24 hour departur ba059 cape town ...     4 2023-07-05   \n",
       "...                                                 ...   ...        ...   \n",
       "3490  ba 213 lhr boston t5 busi check fast effici fl...     7 2014-06-12   \n",
       "3491  flew world travel plus first time trip lhr tor...     5 2014-06-12   \n",
       "3492  glasgow lhr complet full flight crew amaz desp...     4 2014-06-12   \n",
       "3493  lhr cph lhr a320 buss stand outward good bus u...     7 2014-06-12   \n",
       "3494  rome fiumicino lhr jun 1st economi airbus 321 ...    10 2014-06-12   \n",
       "\n",
       "      Verified  \n",
       "0         True  \n",
       "1         True  \n",
       "2         True  \n",
       "3        False  \n",
       "4         True  \n",
       "...        ...  \n",
       "3490     False  \n",
       "3491     False  \n",
       "3492     False  \n",
       "3493     False  \n",
       "3494     False  \n",
       "\n",
       "[3495 rows x 4 columns]"
      ]
     },
     "execution_count": 38,
     "metadata": {},
     "output_type": "execute_result"
    }
   ],
   "source": [
    "#resetting the index\n",
    "df.reset_index(drop=True)"
   ]
  },
  {
   "cell_type": "markdown",
   "id": "e942d454",
   "metadata": {},
   "source": [
    "Now our data is all cleaned and ready for data visualization and data analysis."
   ]
  },
  {
   "cell_type": "code",
   "execution_count": 40,
   "id": "6104a237",
   "metadata": {},
   "outputs": [],
   "source": [
    "# export the cleaned data\n",
    "import os\n",
    "\n",
    "cwd = os.getcwd()\n",
    "df.to_csv(cwd + \"/cleaned-BA-reviews.csv\")"
   ]
  },
  {
   "cell_type": "code",
   "execution_count": null,
   "id": "99eab4f4",
   "metadata": {},
   "outputs": [],
   "source": []
  }
 ],
 "metadata": {
  "kernelspec": {
   "display_name": "Python 3",
   "language": "python",
   "name": "python3"
  },
  "language_info": {
   "codemirror_mode": {
    "name": "ipython",
    "version": 3
   },
   "file_extension": ".py",
   "mimetype": "text/x-python",
   "name": "python",
   "nbconvert_exporter": "python",
   "pygments_lexer": "ipython3",
   "version": "3.8.8"
  }
 },
 "nbformat": 4,
 "nbformat_minor": 5
}
